{
  "nbformat": 4,
  "nbformat_minor": 0,
  "metadata": {
    "colab": {
      "provenance": [],
      "authorship_tag": "ABX9TyPOOz1JDvvbhgyiCfiocmiN",
      "include_colab_link": true
    },
    "kernelspec": {
      "name": "python3",
      "display_name": "Python 3"
    },
    "language_info": {
      "name": "python"
    }
  },
  "cells": [
    {
      "cell_type": "markdown",
      "metadata": {
        "id": "view-in-github",
        "colab_type": "text"
      },
      "source": [
        "<a href=\"https://colab.research.google.com/github/tlavksdmlskf/s/blob/main/Untitled3.ipynb\" target=\"_parent\"><img src=\"https://colab.research.google.com/assets/colab-badge.svg\" alt=\"Open In Colab\"/></a>"
      ]
    },
    {
      "cell_type": "code",
      "execution_count": null,
      "metadata": {
        "colab": {
          "base_uri": "https://localhost:8080/"
        },
        "id": "5yXoPtVVuPrK",
        "outputId": "2ecc5230-e1dc-480d-d7d4-4080941bdfc7"
      },
      "outputs": [
        {
          "output_type": "stream",
          "name": "stdout",
          "text": [
            "숫자 :20\n",
            "220\n"
          ]
        }
      ],
      "source": [
        "n=int(input(\"숫자 :\"))\n",
        "a=n+200\n",
        "print(a)"
      ]
    },
    {
      "cell_type": "code",
      "source": [
        "def a(num):\n",
        "  b=num+200\n",
        "  return b\n",
        "a(int(input()))"
      ],
      "metadata": {
        "id": "MHEgyhKZxUGL"
      },
      "execution_count": null,
      "outputs": []
    },
    {
      "cell_type": "code",
      "source": [
        "n=int(input())\n",
        "for i in range(200):\n",
        "  n+=1\n",
        "print(n)"
      ],
      "metadata": {
        "id": "5RjgUzerxuK8"
      },
      "execution_count": null,
      "outputs": []
    }
  ]
}