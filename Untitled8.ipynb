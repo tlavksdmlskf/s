{
  "nbformat": 4,
  "nbformat_minor": 0,
  "metadata": {
    "colab": {
      "provenance": [],
      "authorship_tag": "ABX9TyMB+hpdAh0R4hcte6MVoNzZ",
      "include_colab_link": true
    },
    "kernelspec": {
      "name": "python3",
      "display_name": "Python 3"
    },
    "language_info": {
      "name": "python"
    }
  },
  "cells": [
    {
      "cell_type": "markdown",
      "metadata": {
        "id": "view-in-github",
        "colab_type": "text"
      },
      "source": [
        "<a href=\"https://colab.research.google.com/github/tlavksdmlskf/s/blob/main/Untitled8.ipynb\" target=\"_parent\"><img src=\"https://colab.research.google.com/assets/colab-badge.svg\" alt=\"Open In Colab\"/></a>"
      ]
    },
    {
      "cell_type": "code",
      "execution_count": 4,
      "metadata": {
        "colab": {
          "base_uri": "https://localhost:8080/"
        },
        "id": "QDmZC-ov6MJA",
        "outputId": "955ce3ab-f4d1-45d0-c316-68c654424b41"
      },
      "outputs": [
        {
          "output_type": "stream",
          "name": "stdout",
          "text": [
            "김밥, 라면?: 라면\n",
            "기본라면(3500원) 떡라면(4000원) 만두라면(4000원)\n"
          ]
        }
      ],
      "source": [
        "a=input(\"김밥, 라면?: \")\n",
        "if a==\"김밥\":\n",
        "  print(\"야채김밥(2500원)\",\"참치김밥(3500원)\")\n",
        "elif a==\"라면\":\n",
        "  print(\"기본라면(3500원)\",\"떡라면(4000원)\",\"만두라면(4000원)\")\n",
        "else:\n",
        "  print(\"똑바로 입력해\")"
      ]
    }
  ]
}