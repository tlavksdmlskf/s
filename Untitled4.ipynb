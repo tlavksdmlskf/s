{
  "nbformat": 4,
  "nbformat_minor": 0,
  "metadata": {
    "colab": {
      "provenance": [],
      "authorship_tag": "ABX9TyPiPKuBwTn0cXUJnPWCv45R",
      "include_colab_link": true
    },
    "kernelspec": {
      "name": "python3",
      "display_name": "Python 3"
    },
    "language_info": {
      "name": "python"
    }
  },
  "cells": [
    {
      "cell_type": "markdown",
      "metadata": {
        "id": "view-in-github",
        "colab_type": "text"
      },
      "source": [
        "<a href=\"https://colab.research.google.com/github/tlavksdmlskf/s/blob/main/Untitled4.ipynb\" target=\"_parent\"><img src=\"https://colab.research.google.com/assets/colab-badge.svg\" alt=\"Open In Colab\"/></a>"
      ]
    },
    {
      "cell_type": "code",
      "source": [
        "a={\"연필\":\"200원\",\"지우개\":\"500원\",\"펜\":\"800원\",\"자\":\"300원\"}\n",
        "print(list(a.values()))"
      ],
      "metadata": {
        "id": "LCS4AKWt7-sm",
        "colab": {
          "base_uri": "https://localhost:8080/"
        },
        "outputId": "0bb7c0d6-b46c-4c92-b1e5-bbff215aaf30"
      },
      "execution_count": null,
      "outputs": [
        {
          "output_type": "stream",
          "name": "stdout",
          "text": [
            "['200원', '800원', '300원']\n"
          ]
        }
      ]
    }
  ]
}