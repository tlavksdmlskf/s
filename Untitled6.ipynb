{
  "nbformat": 4,
  "nbformat_minor": 0,
  "metadata": {
    "colab": {
      "provenance": [],
      "authorship_tag": "ABX9TyMi6IuER9RWKwR9UxeUU8fC",
      "include_colab_link": true
    },
    "kernelspec": {
      "name": "python3",
      "display_name": "Python 3"
    },
    "language_info": {
      "name": "python"
    }
  },
  "cells": [
    {
      "cell_type": "markdown",
      "metadata": {
        "id": "view-in-github",
        "colab_type": "text"
      },
      "source": [
        "<a href=\"https://colab.research.google.com/github/tlavksdmlskf/s/blob/main/Untitled6.ipynb\" target=\"_parent\"><img src=\"https://colab.research.google.com/assets/colab-badge.svg\" alt=\"Open In Colab\"/></a>"
      ]
    },
    {
      "cell_type": "code",
      "execution_count": null,
      "metadata": {
        "id": "jqfTgj0zxPRq"
      },
      "outputs": [],
      "source": [
        "print(\"팅 팅팅팅 탱 탱탱탱 팅팅 탱탱 후라이팬 놀이!\")\n",
        "for i in range(5):\n",
        "  a=input(\"이름: \")\n",
        "  b=int(input(\"횟수: \"))\n",
        "  print(a*b)"
      ]
    }
  ]
}