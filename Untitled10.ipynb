{
  "nbformat": 4,
  "nbformat_minor": 0,
  "metadata": {
    "colab": {
      "provenance": [],
      "authorship_tag": "ABX9TyNNa+dkY9FckGLT48ZlxrCN",
      "include_colab_link": true
    },
    "kernelspec": {
      "name": "python3",
      "display_name": "Python 3"
    },
    "language_info": {
      "name": "python"
    }
  },
  "cells": [
    {
      "cell_type": "markdown",
      "metadata": {
        "id": "view-in-github",
        "colab_type": "text"
      },
      "source": [
        "<a href=\"https://colab.research.google.com/github/tlavksdmlskf/s/blob/main/Untitled10.ipynb\" target=\"_parent\"><img src=\"https://colab.research.google.com/assets/colab-badge.svg\" alt=\"Open In Colab\"/></a>"
      ]
    },
    {
      "cell_type": "code",
      "execution_count": 5,
      "metadata": {
        "colab": {
          "base_uri": "https://localhost:8080/"
        },
        "id": "KJq0A0Da74fu",
        "outputId": "9b202682-56ad-4d22-d25f-3eec01713533"
      },
      "outputs": [
        {
          "output_type": "stream",
          "name": "stdout",
          "text": [
            "input first number :5\n",
            "*\n",
            "input first number :5\n",
            "5 * 5 = 25\n"
          ]
        }
      ],
      "source": [
        "\n",
        "a=int(input(\"input first number :\"))\n",
        "b=input()\n",
        "c=int(input(\"input first number :\"))\n",
        "if b == \"+\":\n",
        "  print(a,\"+\",c,\"=\",a+c)\n",
        "elif b == \"-\":\n",
        "  print(a, \"-\",c,\"=\",a-c)\n",
        "elif b == \"/\":\n",
        "  print(a,\"/\",c,\"=\",a/c)\n",
        "elif b == \"*\":\n",
        "  print(a,\"*\",c,\"=\",a*c)\n",
        "else:\n",
        "  print(\"잘못된 연산자를 입력했습니다\")"
      ]
    }
  ]
}