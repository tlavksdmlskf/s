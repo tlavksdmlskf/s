{
  "nbformat": 4,
  "nbformat_minor": 0,
  "metadata": {
    "colab": {
      "provenance": [],
      "authorship_tag": "ABX9TyPnkmBHy144BjnT00B6LfOy",
      "include_colab_link": true
    },
    "kernelspec": {
      "name": "python3",
      "display_name": "Python 3"
    },
    "language_info": {
      "name": "python"
    }
  },
  "cells": [
    {
      "cell_type": "markdown",
      "metadata": {
        "id": "view-in-github",
        "colab_type": "text"
      },
      "source": [
        "<a href=\"https://colab.research.google.com/github/tlavksdmlskf/s/blob/main/Untitled10.ipynb\" target=\"_parent\"><img src=\"https://colab.research.google.com/assets/colab-badge.svg\" alt=\"Open In Colab\"/></a>"
      ]
    },
    {
      "cell_type": "code",
      "execution_count": 8,
      "metadata": {
        "colab": {
          "base_uri": "https://localhost:8080/"
        },
        "id": "KJq0A0Da74fu",
        "outputId": "375f2608-abea-4a25-81c0-28f0aa33d89c"
      },
      "outputs": [
        {
          "output_type": "stream",
          "name": "stdout",
          "text": [
            "input first number :465498\n",
            "4564\n",
            "input first number :73854633\n",
            "잘못된 연산자를 입력했습니다\n"
          ]
        }
      ],
      "source": [
        "#첫번째 값을 입력받는다\n",
        "a=int(input(\"input first number :\"))\n",
        "\n",
        "#연산자를 입력받는다\n",
        "b=input()\n",
        "\n",
        "#두번째 값을 입력받는다\n",
        "c=int(input(\"input first number :\"))\n",
        "\n",
        "#변수 b에 입력 되어있는 연산자에 맞게 계산한다\n",
        "if b == \"+\":      #변수 b에 입력된 값이 +라면 값을 더한 뒤에 출력한다\n",
        "  print(a,\"+\",c,\"=\",a+c)\n",
        "elif b == \"-\":    #변수 b에 입력된 값이 -라면 값을 뺀 뒤에 출력한다\n",
        "  print(a, \"-\",c,\"=\",a-c)\n",
        "elif b == \"/\":    #변수 b에 입력된 값이 /라면 값을 나눈 뒤에 출력한다\n",
        "  print(a,\"/\",c,\"=\",a/c)\n",
        "elif b == \"*\":    #변수 b에 입력된 값이 *라면 값을 곱한 뒤에 출력한다\n",
        "  print(a,\"*\",c,\"=\",a*c)\n",
        "elif b==\"//\":      #변수 b에 입력된 값이 //라면 값을 나눈 값의 몫을 출력한다\n",
        "  print(a,\"//\",c,\"=\",a//c)\n",
        "elif b == \"%\":    #변수 b에 입력된 값이 %라면 값을 나눈 뒤에 나머지를 출력한다\n",
        "  print(a,\"*\",c,\"=\",a%c)\n",
        "elif b == \"**\":    #변수 b에 입력된 값이 **라면 값을 제곱한 뒤에 출력한다\n",
        "  print(a,\"**\",c,\"=\",a**c)\n",
        "else:\n",
        "  #잘못된 연산자를 입력했을 때 출력한다\n",
        "  print(\"잘못된 연산자를 입력했습니다\")"
      ]
    }
  ]
}